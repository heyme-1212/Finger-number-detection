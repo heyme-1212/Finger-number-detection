{
 "cells": [
  {
   "cell_type": "markdown",
   "id": "657eea0e",
   "metadata": {},
   "source": [
    "# ✋ Finger Number Detection using MediaPipe\n",
    "This notebook demonstrates how to detect the number of raised fingers in real time using OpenCV and MediaPipe."
   ]
  },
  {
   "cell_type": "code",
   "execution_count": null,
   "id": "09e83c9f",
   "metadata": {},
   "outputs": [],
   "source": [
    "# Install mediapipe and opencv-python if not already installed\n",
    "!pip install mediapipe opencv-python\n"
   ]
  },
  {
   "cell_type": "code",
   "execution_count": null,
   "id": "3f6c4e88",
   "metadata": {},
   "outputs": [],
   "source": [
    "import cv2\n",
    "import mediapipe as mp\n",
    "\n",
    "# Initialize mediapipe hand detector\n",
    "mp_hands = mp.solutions.hands\n",
    "hands = mp_hands.Hands(max_num_hands=1)\n",
    "mp_draw = mp.solutions.drawing_utils\n",
    "\n",
    "# Finger tip landmarks in Mediapipe\n",
    "finger_tips = [8, 12, 16, 20]\n",
    "thumb_tip = 4\n",
    "\n",
    "# Start video capture\n",
    "cap = cv2.VideoCapture(0)\n",
    "\n",
    "while True:\n",
    "    success, img = cap.read()\n",
    "    img_rgb = cv2.cvtColor(img, cv2.COLOR_BGR2RGB)\n",
    "    results = hands.process(img_rgb)\n",
    "    h, w, _ = img.shape\n",
    "    finger_count = 0\n",
    "\n",
    "    if results.multi_hand_landmarks:\n",
    "        for hand_landmark in results.multi_hand_landmarks:\n",
    "            lm_list = []\n",
    "            for id, lm in enumerate(hand_landmark.landmark):\n",
    "                lm_list.append((int(lm.x * w), int(lm.y * h)))\n",
    "\n",
    "            # Count fingers\n",
    "            if lm_list[thumb_tip][0] > lm_list[thumb_tip - 1][0]:  # Thumb\n",
    "                finger_count += 1\n",
    "            for tip in finger_tips:\n",
    "                if lm_list[tip][1] < lm_list[tip - 2][1]:\n",
    "                    finger_count += 1\n",
    "\n",
    "            # Draw hand landmarks\n",
    "            mp_draw.draw_landmarks(img, hand_landmark, mp_hands.HAND_CONNECTIONS)\n",
    "\n",
    "    # Display count\n",
    "    cv2.putText(img, f'Fingers: {finger_count}', (10, 70), cv2.FONT_HERSHEY_SIMPLEX, \n",
    "                1.5, (255, 0, 0), 3)\n",
    "\n",
    "    cv2.imshow(\"Finger Counter\", img)\n",
    "    if cv2.waitKey(1) & 0xFF == ord('q'):\n",
    "        break\n",
    "\n",
    "cap.release()\n",
    "cv2.destroyAllWindows()\n"
   ]
  },
  {
   "cell_type": "markdown",
   "id": "9ff07daf",
   "metadata": {},
   "source": [
    "### 📌 Notes\n",
    "- Press `q` to exit the webcam window.\n",
    "- Make sure your camera is working and you’re in a well-lit area.\n",
    "- The code uses landmark positions to estimate raised fingers based on tip-to-knuckle distance."
   ]
  }
 ],
 "metadata": {},
 "nbformat": 4,
 "nbformat_minor": 5
}
